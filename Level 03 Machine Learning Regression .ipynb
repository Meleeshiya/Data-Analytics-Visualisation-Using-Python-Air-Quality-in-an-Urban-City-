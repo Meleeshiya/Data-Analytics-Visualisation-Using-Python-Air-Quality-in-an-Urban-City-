{
 "cells": [
  {
   "cell_type": "code",
   "execution_count": 66,
   "metadata": {},
   "outputs": [
    {
     "data": {
      "text/html": [
       "<div>\n",
       "<style scoped>\n",
       "    .dataframe tbody tr th:only-of-type {\n",
       "        vertical-align: middle;\n",
       "    }\n",
       "\n",
       "    .dataframe tbody tr th {\n",
       "        vertical-align: top;\n",
       "    }\n",
       "\n",
       "    .dataframe thead th {\n",
       "        text-align: right;\n",
       "    }\n",
       "</style>\n",
       "<table border=\"1\" class=\"dataframe\">\n",
       "  <thead>\n",
       "    <tr style=\"text-align: right;\">\n",
       "      <th></th>\n",
       "      <th>CO(GT)</th>\n",
       "      <th>PT08.S1(CO)</th>\n",
       "      <th>PT08.S2(NMHC)</th>\n",
       "      <th>NOx(GT)</th>\n",
       "      <th>PT08.S5(O3)</th>\n",
       "      <th>NO2_Concentration</th>\n",
       "    </tr>\n",
       "  </thead>\n",
       "  <tbody>\n",
       "    <tr>\n",
       "      <th>184</th>\n",
       "      <td>4.5</td>\n",
       "      <td>1616.50</td>\n",
       "      <td>1332.50</td>\n",
       "      <td>349.0</td>\n",
       "      <td>1818.50</td>\n",
       "      <td>150.0</td>\n",
       "    </tr>\n",
       "    <tr>\n",
       "      <th>185</th>\n",
       "      <td>2.8</td>\n",
       "      <td>1472.75</td>\n",
       "      <td>1126.50</td>\n",
       "      <td>224.0</td>\n",
       "      <td>1567.75</td>\n",
       "      <td>152.0</td>\n",
       "    </tr>\n",
       "    <tr>\n",
       "      <th>186</th>\n",
       "      <td>2.2</td>\n",
       "      <td>1378.50</td>\n",
       "      <td>1067.50</td>\n",
       "      <td>171.0</td>\n",
       "      <td>1373.50</td>\n",
       "      <td>139.0</td>\n",
       "    </tr>\n",
       "    <tr>\n",
       "      <th>187</th>\n",
       "      <td>2.2</td>\n",
       "      <td>1385.25</td>\n",
       "      <td>1056.25</td>\n",
       "      <td>149.0</td>\n",
       "      <td>1267.50</td>\n",
       "      <td>133.0</td>\n",
       "    </tr>\n",
       "    <tr>\n",
       "      <th>188</th>\n",
       "      <td>2.3</td>\n",
       "      <td>1378.75</td>\n",
       "      <td>1086.75</td>\n",
       "      <td>137.0</td>\n",
       "      <td>1143.50</td>\n",
       "      <td>126.0</td>\n",
       "    </tr>\n",
       "    <tr>\n",
       "      <th>...</th>\n",
       "      <td>...</td>\n",
       "      <td>...</td>\n",
       "      <td>...</td>\n",
       "      <td>...</td>\n",
       "      <td>...</td>\n",
       "      <td>...</td>\n",
       "    </tr>\n",
       "    <tr>\n",
       "      <th>9352</th>\n",
       "      <td>3.1</td>\n",
       "      <td>1314.25</td>\n",
       "      <td>1101.25</td>\n",
       "      <td>471.7</td>\n",
       "      <td>1728.50</td>\n",
       "      <td>189.8</td>\n",
       "    </tr>\n",
       "    <tr>\n",
       "      <th>9353</th>\n",
       "      <td>2.4</td>\n",
       "      <td>1162.50</td>\n",
       "      <td>1027.00</td>\n",
       "      <td>353.3</td>\n",
       "      <td>1269.00</td>\n",
       "      <td>179.2</td>\n",
       "    </tr>\n",
       "    <tr>\n",
       "      <th>9354</th>\n",
       "      <td>2.4</td>\n",
       "      <td>1142.00</td>\n",
       "      <td>1062.50</td>\n",
       "      <td>293.0</td>\n",
       "      <td>1092.00</td>\n",
       "      <td>174.7</td>\n",
       "    </tr>\n",
       "    <tr>\n",
       "      <th>9355</th>\n",
       "      <td>2.1</td>\n",
       "      <td>1002.50</td>\n",
       "      <td>960.50</td>\n",
       "      <td>234.5</td>\n",
       "      <td>769.75</td>\n",
       "      <td>155.7</td>\n",
       "    </tr>\n",
       "    <tr>\n",
       "      <th>9356</th>\n",
       "      <td>2.2</td>\n",
       "      <td>1070.75</td>\n",
       "      <td>1047.25</td>\n",
       "      <td>265.2</td>\n",
       "      <td>816.00</td>\n",
       "      <td>167.7</td>\n",
       "    </tr>\n",
       "  </tbody>\n",
       "</table>\n",
       "<p>5463 rows × 6 columns</p>\n",
       "</div>"
      ],
      "text/plain": [
       "      CO(GT)  PT08.S1(CO)  PT08.S2(NMHC)  NOx(GT)  PT08.S5(O3)  \\\n",
       "184      4.5      1616.50        1332.50    349.0      1818.50   \n",
       "185      2.8      1472.75        1126.50    224.0      1567.75   \n",
       "186      2.2      1378.50        1067.50    171.0      1373.50   \n",
       "187      2.2      1385.25        1056.25    149.0      1267.50   \n",
       "188      2.3      1378.75        1086.75    137.0      1143.50   \n",
       "...      ...          ...            ...      ...          ...   \n",
       "9352     3.1      1314.25        1101.25    471.7      1728.50   \n",
       "9353     2.4      1162.50        1027.00    353.3      1269.00   \n",
       "9354     2.4      1142.00        1062.50    293.0      1092.00   \n",
       "9355     2.1      1002.50         960.50    234.5       769.75   \n",
       "9356     2.2      1070.75        1047.25    265.2       816.00   \n",
       "\n",
       "      NO2_Concentration  \n",
       "184               150.0  \n",
       "185               152.0  \n",
       "186               139.0  \n",
       "187               133.0  \n",
       "188               126.0  \n",
       "...                 ...  \n",
       "9352              189.8  \n",
       "9353              179.2  \n",
       "9354              174.7  \n",
       "9355              155.7  \n",
       "9356              167.7  \n",
       "\n",
       "[5463 rows x 6 columns]"
      ]
     },
     "execution_count": 66,
     "metadata": {},
     "output_type": "execute_result"
    }
   ],
   "source": [
    "import numpy as np\n",
    "import pandas as pd\n",
    "import seaborn as sns\n",
    "import matplotlib.pyplot as plt\n",
    " \n",
    "#read in the pima-indians-diabetese.xlsx dataset\n",
    "#read in the pima-indians-diabetese.xlsx dataset\n",
    "#load data set and explore\n",
    "aqDataSet_raw = pd.read_excel(\"AirQualityUCI.xlsx\")\n",
    "# define a function called \"outliers\" which returns a list of index of outliers\n",
    "#IQR = Q3 - Q1\n",
    "#+/- 1.5 * IQR\n",
    "\n",
    "def outliers(df,ft):\n",
    "    Q1 = df[ft].quantile(0.25)\n",
    "    Q3 = df[ft].quantile(0.75)\n",
    "    IQR = Q3 - Q1\n",
    "    \n",
    "    lower_bound = Q1 -1.5 * IQR\n",
    "    upper_bound = Q3 + 1.5 * IQR\n",
    "    \n",
    "    ls = df.index[(df[ft] < lower_bound) | (df[ft] > upper_bound)]\n",
    "    return ls\n",
    "\n",
    "# create an empty list to store the output indices from multiple columns\n",
    "aqDataSet_raw = pd.read_excel(\"AirQualityUCI.xlsx\")\n",
    "index_list = []\n",
    "for feature in [\"CO(GT)\",\"PT08.S1(CO)\",\"NMHC(GT)\",\"C6H6(GT)\",\"PT08.S2(NMHC)\",\"NOx(GT)\",\n",
    "                \"PT08.S3(NOx)\",\"NO2(GT)\",\"PT08.S4(NO2)\",\"PT08.S5(O3)\",\"T\", \"AH\", \"RH\"]:\n",
    "    index_list.extend(outliers(aqDataSet_raw, feature))\n",
    "    \n",
    "# define a function called \"remove\" which returns a cleanset dataframe without outliers\n",
    "\n",
    "def remove(df,ls):\n",
    "    ls = sorted(set(ls))\n",
    "    df = df.drop(ls)\n",
    "    return df\n",
    "\n",
    "airQualityDataSet = remove(aqDataSet_raw, index_list)\n",
    "\n",
    "airQualityDataSet.corr()[\"NO2(GT)\"]\n",
    "\n",
    "NO2_Concentration = airQualityDataSet[\"NO2(GT)\"]\n",
    "airQualityDataSet = airQualityDataSet.drop([\"Date\", \"Time\" , \"NMHC(GT)\",\"C6H6(GT)\", \"PT08.S3(NOx)\",\"NO2(GT)\" , \"PT08.S4(NO2)\", \"T\",\"RH\",\"AH\"], axis=1)\n",
    "airQualityDataSet[\"NO2_Concentration\"] = NO2_Concentration\n",
    "airQualityDataSet\n",
    "\n",
    "\n",
    "\n"
   ]
  },
  {
   "cell_type": "code",
   "execution_count": 18,
   "metadata": {},
   "outputs": [
    {
     "data": {
      "text/plain": [
       "CO(GT)           0.632652\n",
       "PT08.S1(CO)      0.566536\n",
       "NMHC(GT)              NaN\n",
       "C6H6(GT)         0.519068\n",
       "PT08.S2(NMHC)    0.541756\n",
       "NOx(GT)          0.731065\n",
       "PT08.S3(NOx)    -0.599658\n",
       "NO2(GT)          1.000000\n",
       "PT08.S4(NO2)    -0.009468\n",
       "PT08.S5(O3)      0.618363\n",
       "T               -0.227602\n",
       "RH              -0.145761\n",
       "AH              -0.427731\n",
       "Name: NO2(GT), dtype: float64"
      ]
     },
     "execution_count": 18,
     "metadata": {},
     "output_type": "execute_result"
    }
   ],
   "source": [
    "airQualityDataSet.corr()[\"NO2(GT)\"]"
   ]
  },
  {
   "cell_type": "code",
   "execution_count": 24,
   "metadata": {},
   "outputs": [
    {
     "data": {
      "image/png": "[encoded data removed]",
      "text/plain": [
       "<Figure size 432x288 with 1 Axes>"
      ]
     },
     "metadata": {
      "needs_background": "light"
     },
     "output_type": "display_data"
    }
   ],
   "source": [
    "plt.scatter(airQualityDataSet[\"CO(GT)\"],airQualityDataSet[\"NO2_Concentration\"])\n",
    "plt.xlabel(\"CO(GT) concentration\")\n",
    "plt.ylabel(\"NO2_Concentration\")\n",
    "plt.show()"
   ]
  },
  {
   "cell_type": "code",
   "execution_count": 25,
   "metadata": {},
   "outputs": [
    {
     "data": {
      "image/png": "[encoded data removed]",
      "text/plain": [
       "<Figure size 432x288 with 1 Axes>"
      ]
     },
     "metadata": {
      "needs_background": "light"
     },
     "output_type": "display_data"
    }
   ],
   "source": [
    "plt.scatter(airQualityDataSet[\"PT08.S1(CO)\"],airQualityDataSet[\"NO2_Concentration\"])\n",
    "plt.xlabel(\"PT08.S1(CO)concentration\")\n",
    "plt.ylabel(\"NO2_Concentration\")\n",
    "plt.show()"
   ]
  },
  {
   "cell_type": "code",
   "execution_count": 26,
   "metadata": {},
   "outputs": [
    {
     "data": {
      "image/png": "[encoded data removed]",
      "text/plain": [
       "<Figure size 432x288 with 1 Axes>"
      ]
     },
     "metadata": {
      "needs_background": "light"
     },
     "output_type": "display_data"
    }
   ],
   "source": [
    "plt.scatter(airQualityDataSet[\"PT08.S2(NMHC)\"],airQualityDataSet[\"NO2_Concentration\"])\n",
    "plt.xlabel(\"PT08.S2(NMHC) concentration\")\n",
    "plt.ylabel(\"NO2_Concentration\")\n",
    "plt.show()"
   ]
  },
  {
   "cell_type": "code",
   "execution_count": 27,
   "metadata": {},
   "outputs": [
    {
     "data": {
      "image/png": "[encoded data removed]",
      "text/plain": [
       "<Figure size 432x288 with 1 Axes>"
      ]
     },
     "metadata": {
      "needs_background": "light"
     },
     "output_type": "display_data"
    }
   ],
   "source": [
    "plt.scatter(airQualityDataSet[\"NOx(GT)\"],airQualityDataSet[\"NO2_Concentration\"])\n",
    "plt.xlabel(\"NOx(GT) concentration\")\n",
    "plt.ylabel(\"NO2_Concentration\")\n",
    "plt.show()"
   ]
  },
  {
   "cell_type": "code",
   "execution_count": 28,
   "metadata": {},
   "outputs": [
    {
     "data": {
      "image/png": "[encoded data removed]",
      "text/plain": [
       "<Figure size 432x288 with 1 Axes>"
      ]
     },
     "metadata": {
      "needs_background": "light"
     },
     "output_type": "display_data"
    }
   ],
   "source": [
    "plt.scatter(airQualityDataSet[\"PT08.S5(O3)\"],airQualityDataSet[\"NO2_Concentration\"])\n",
    "plt.xlabel(\"PT08.S5(O3) concentration\")\n",
    "plt.ylabel(\"NO2_Concentration\")\n",
    "plt.show()"
   ]
  },
  {
   "cell_type": "code",
   "execution_count": 41,
   "metadata": {},
   "outputs": [
    {
     "name": "stdout",
     "output_type": "stream",
     "text": [
      "______________________________Linear Regression______________________________\n",
      "The mean absolute error of the model is  21.943857137930813\n",
      "The mean squared error of the model is  778.3136066393076\n",
      "The Root mean squared value of the model is  27.89827246693436\n",
      "\n",
      "\n",
      " Coefficient of determination or R squared value is  0.5676952527475734\n"
     ]
    }
   ],
   "source": [
    "#Linear Regression\n",
    "import matplotlib.pyplot as plt\n",
    "import pandas as pd\n",
    "import numpy as np\n",
    "import statsmodels.api as statmodel\n",
    "from sklearn import datasets, linear_model\n",
    "from sklearn.linear_model import LinearRegression\n",
    "from sklearn.preprocessing import StandardScaler \n",
    "from sklearn.model_selection import train_test_split\n",
    "from sklearn import metrics\n",
    "\n",
    "X = airQualityDataSet.drop(\"NO2_Concentration\", axis=1)\n",
    "Y = airQualityDataSet[\"NO2_Concentration\"]\n",
    "\n",
    "#Train, test and split the dataset\n",
    "X_train, X_test, y_train, y_test = train_test_split(X, Y, test_size=0.2)\n",
    "\n",
    "#Pre-processing - transformation, etc...\n",
    "scaler = StandardScaler()\n",
    "\n",
    "# Fit only to the training data\n",
    "scaler.fit(X_train)\n",
    "\n",
    "# Now apply the transformations to the data:\n",
    "X_train = scaler.transform(X_train)\n",
    "X_test = scaler.transform(X_test)\n",
    "\n",
    "#Create Linear Regression Object\n",
    "lr = LinearRegression()\n",
    "\n",
    "#Train the model using the training data\n",
    "lr.fit(X_train,y_train)\n",
    "\n",
    "#Make predictions using the testing data\n",
    "y_pred = lr.predict(X_test)\n",
    "\n",
    "#Model Evaluation\n",
    "print(\"______________________________Linear Regression______________________________\")\n",
    "print(\"The mean absolute error of the model is \", metrics.mean_absolute_error(y_test, y_pred))\n",
    "print(\"The mean squared error of the model is \", metrics.mean_squared_error(y_test, y_pred))\n",
    "print(\"The Root mean squared value of the model is \",  np.sqrt(metrics.mean_squared_error(y_test, y_pred)))\n",
    "\n",
    "print(\"\\n\")\n",
    "\n",
    "#Rsquared value of model\n",
    "print(\" Coefficient of determination or R squared value is \", metrics.r2_score(y_test, y_pred))\n"
   ]
  },
  {
   "cell_type": "code",
   "execution_count": 57,
   "metadata": {},
   "outputs": [
    {
     "name": "stdout",
     "output_type": "stream",
     "text": [
      "______________________________Support Vector Regression______________________________\n",
      "The mean absolute error of the model is  19.275107655178907\n",
      "The mean squared error of the model is  651.1670983739833\n",
      "The Root mean squared value of the model is  25.517975985057735\n",
      "\n",
      "\n",
      " Coefficient of determination or R squared value is  0.6481919840800735\n"
     ]
    }
   ],
   "source": [
    "#Support Vector Regression\n",
    "import matplotlib.pyplot as plt\n",
    "import pandas as pd\n",
    "import numpy as np\n",
    "import statsmodels.api as statmodel\n",
    "from sklearn.svm import SVR\n",
    "from sklearn.pipeline import make_pipeline\n",
    "from sklearn.preprocessing import StandardScaler \n",
    "from sklearn.model_selection import train_test_split\n",
    "from sklearn import metrics\n",
    "\n",
    "X = airQualityDataSet.drop(\"NO2_Concentration\", axis=1)\n",
    "Y = airQualityDataSet[\"NO2_Concentration\"]\n",
    "\n",
    "#Train, test and split the dataset\n",
    "X_train, X_test, y_train, y_test = train_test_split(X, Y, test_size=0.2)\n",
    "\n",
    "\n",
    "#Create Support Vector Regression Object\n",
    "SVR_model = make_pipeline(StandardScaler(), SVR(C = 1.0 , epsilon = 0.1))\n",
    "\n",
    "#Train the model using the training data\n",
    "SVR_model.fit(X_train,y_train)\n",
    "\n",
    "#Make predictions using the testing data\n",
    "y_pred = SVR_model.predict(X_test)\n",
    "\n",
    "#Model Evaluation\n",
    "print(\"______________________________Support Vector Regression______________________________\")\n",
    "print(\"The mean absolute error of the model is \", metrics.mean_absolute_error(y_test, y_pred))\n",
    "print(\"The mean squared error of the model is \", metrics.mean_squared_error(y_test, y_pred))\n",
    "print(\"The Root mean squared value of the model is \",  np.sqrt(metrics.mean_squared_error(y_test, y_pred)))\n",
    "\n",
    "print(\"\\n\")\n",
    "\n",
    "#Rsquared value of model\n",
    "print(\" Coefficient of determination or R squared value is \", metrics.r2_score(y_test, y_pred))\n",
    "\n"
   ]
  },
  {
   "cell_type": "code",
   "execution_count": 61,
   "metadata": {},
   "outputs": [
    {
     "name": "stdout",
     "output_type": "stream",
     "text": [
      "______________________________Random Forest Regression______________________________\n",
      "The mean absolute error of the model is  16.080785178408043\n",
      "The mean squared error of the model is  503.6272395283805\n",
      "The Root mean squared value of the model is  22.44164074947241\n",
      "\n",
      "\n",
      " Coefficient of determination or R squared value is  0.7240005501656905\n"
     ]
    }
   ],
   "source": [
    "#Random Forest Regression\n",
    "import matplotlib.pyplot as plt\n",
    "import pandas as pd\n",
    "import numpy as np\n",
    "import statsmodels.api as statmodel\n",
    "from sklearn.ensemble import RandomForestRegressor\n",
    "from sklearn.preprocessing import StandardScaler \n",
    "from sklearn.model_selection import train_test_split\n",
    "from sklearn import metrics\n",
    "\n",
    "X = airQualityDataSet.drop(\"NO2_Concentration\", axis=1)\n",
    "Y = airQualityDataSet[\"NO2_Concentration\"]\n",
    "\n",
    "#Train, test and split the dataset\n",
    "X_train, X_test, y_train, y_test = train_test_split(X, Y, test_size=0.2)\n",
    "\n",
    "\n",
    "#Create RandomForestRegressor Object\n",
    "rf_model = RandomForestRegressor(n_estimators = 1000 , random_state = 42)\n",
    "\n",
    "#Train the model using the training data\n",
    "rf_model.fit(X_train,y_train)\n",
    "\n",
    "#Make predictions using the testing data\n",
    "y_pred = rf_model.predict(X_test)\n",
    "\n",
    "#Model Evaluation\n",
    "print(\"______________________________Random Forest Regression______________________________\")\n",
    "print(\"The mean absolute error of the model is \", metrics.mean_absolute_error(y_test, y_pred))\n",
    "print(\"The mean squared error of the model is \", metrics.mean_squared_error(y_test, y_pred))\n",
    "print(\"The Root mean squared value of the model is \",  np.sqrt(metrics.mean_squared_error(y_test, y_pred)))\n",
    "\n",
    "print(\"\\n\")\n",
    "\n",
    "#Rsquared value of model\n",
    "print(\" Coefficient of determination or R squared value is \", metrics.r2_score(y_test, y_pred))"
   ]
  },
  {
   "cell_type": "code",
   "execution_count": 65,
   "metadata": {},
   "outputs": [
    {
     "name": "stdout",
     "output_type": "stream",
     "text": [
      "______________________________AdaBoost Regression __________________________________\n",
      "The mean absolute error of the model is  19.624615203155823\n",
      "The mean squared error of the model is  671.31994044844\n",
      "The Root mean squared value of the model is  25.90984254001633\n",
      "\n",
      "\n",
      " Coefficient of determination or R squared value is  0.6368822580497047\n"
     ]
    }
   ],
   "source": [
    "#AdaBoost Regression\n",
    "import matplotlib.pyplot as plt\n",
    "import pandas as pd\n",
    "import numpy as np\n",
    "import statsmodels.api as statmodel\n",
    "from sklearn.ensemble import AdaBoostRegressor\n",
    "from sklearn.datasets import make_regression\n",
    "from sklearn.preprocessing import StandardScaler \n",
    "from sklearn.model_selection import train_test_split\n",
    "from sklearn import metrics\n",
    "\n",
    "X = airQualityDataSet.drop(\"NO2_Concentration\", axis=1)\n",
    "Y = airQualityDataSet[\"NO2_Concentration\"]\n",
    "\n",
    "#Train, test and split the dataset\n",
    "X_train, X_test, y_train, y_test = train_test_split(X, Y, test_size=0.2)\n",
    "\n",
    "#Pre-processing - transformation, etc...\n",
    "scaler = StandardScaler()\n",
    "\n",
    "# Fit only to the training data\n",
    "scaler.fit(X_train)\n",
    "\n",
    "# Now apply the transformations to the data:\n",
    "X_train = scaler.transform(X_train)\n",
    "X_test = scaler.transform(X_test)\n",
    "\n",
    "\n",
    "#Create AdaBoostRegressor Object\n",
    "adaBst_model = AdaBoostRegressor(learning_rate = 0.001, random_state = 0 , n_estimators = 500)\n",
    "\n",
    "#Train the model using the training data\n",
    "adaBst_model.fit(X_train,y_train)\n",
    "\n",
    "#Make predictions using the testing data\n",
    "y_pred = adaBst_model.predict(X_test)\n",
    "\n",
    "#Model Evaluation\n",
    "print(\"______________________________AdaBoost Regression __________________________________\")\n",
    "print(\"The mean absolute error of the model is \", metrics.mean_absolute_error(y_test, y_pred))\n",
    "print(\"The mean squared error of the model is \", metrics.mean_squared_error(y_test, y_pred))\n",
    "print(\"The Root mean squared value of the model is \",  np.sqrt(metrics.mean_squared_error(y_test, y_pred)))\n",
    "\n",
    "print(\"\\n\")\n",
    "\n",
    "#Rsquared value of model\n",
    "print(\" Coefficient of determination or R squared value is \", metrics.r2_score(y_test, y_pred))"
   ]
  },
  {
   "cell_type": "code",
   "execution_count": 77,
   "metadata": {},
   "outputs": [
    {
     "name": "stdout",
     "output_type": "stream",
     "text": [
      "The predict y value is that is the Median Value x $1000  [6396.92440019]\n",
      "\n",
      "\n",
      "______________________Multilayer perceptron Regression (MLP)_____________________\n",
      "The mean absolute error of the model is  16.670318920438472\n",
      "The mean squared error of the model is  519.9296626826149\n",
      "The Root mean squared value of the model is  22.80196620211983\n",
      "\n",
      "\n",
      " Coefficient of determination or R squared value is  0.740167735373769\n"
     ]
    }
   ],
   "source": [
    "#MLP Regression\n",
    "import pandas as pd\n",
    "import numpy as np\n",
    "import matplotlib.pyplot as plt\n",
    "from sklearn.preprocessing import StandardScaler \n",
    "from sklearn.model_selection import train_test_split\n",
    "from sklearn.neural_network import MLPRegressor\n",
    "from sklearn import metrics\n",
    "\n",
    "X = airQualityDataSet.drop(\"NO2_Concentration\", axis=1)\n",
    "Y = airQualityDataSet[\"NO2_Concentration\"]\n",
    "\n",
    "\n",
    "#Train, test and split the dataset. Random number generator, with popular integer see numbers are 0 and 42\n",
    "X_train, X_test, y_train, y_test = train_test_split(X, Y, test_size=0.2, random_state=42)\n",
    "\n",
    "#Pre-processing - transformation, etc...\n",
    "scaler = StandardScaler()\n",
    "\n",
    "# Fit only to the training data\n",
    "scaler.fit(X_train)\n",
    "\n",
    "# Now apply the transformations to the data:\n",
    "X_train = scaler.transform(X_train)\n",
    "X_test = scaler.transform(X_test)\n",
    "\n",
    "# Build and fit the Neural Network MLP Regression Model\n",
    "mlp = MLPRegressor(hidden_layer_sizes=(15), activation='relu', max_iter = 1000, solver='lbfgs')\n",
    "mlp_model = mlp.fit(X_train, y_train)\n",
    "\n",
    "#Use the NN model to predict the target values\n",
    "#Prediction \n",
    "y_pred = mlp_model.predict(X_test)\n",
    "\n",
    "#Define a set of predictor inputs and use the model to make a prediction of the y ouput. The order of the values are\n",
    "#aligned to the order of the columns\n",
    "new_input = [[2.0,1360.0,1046.0,166.0,1268.0]]\n",
    "new_y = mlp_model.predict(new_input)\n",
    "print(\"The predict y value is that is the Median Value x $1000 \", new_y)\n",
    "print(\"\\n\")\n",
    "\n",
    "#Model Evaluation\n",
    "print(\"______________________Multilayer perceptron Regression (MLP)_____________________\")\n",
    "print(\"The mean absolute error of the model is \", metrics.mean_absolute_error(y_test, y_pred))\n",
    "print(\"The mean squared error of the model is \", metrics.mean_squared_error(y_test, y_pred))\n",
    "print(\"The Root mean squared value of the model is \",  np.sqrt(metrics.mean_squared_error(y_test, y_pred)))\n",
    "\n",
    "print(\"\\n\")\n",
    "\n",
    "#Rsquared value of model\n",
    "print(\" Coefficient of determination or R squared value is \", metrics.r2_score(y_test, y_pred))\n",
    "\n",
    "\n",
    "\n",
    "\n"
   ]
  },
  {
   "cell_type": "code",
   "execution_count": null,
   "metadata": {},
   "outputs": [],
   "source": []
  },
  {
   "cell_type": "code",
   "execution_count": null,
   "metadata": {},
   "outputs": [],
   "source": []
  }
 ],
 "metadata": {
  "kernelspec": {
   "display_name": "Python 3 (ipykernel)",
   "language": "python",
   "name": "python3"
  },
  "language_info": {
   "codemirror_mode": {
    "name": "ipython",
    "version": 3
   },
   "file_extension": ".py",
   "mimetype": "text/x-python",
   "name": "python",
   "nbconvert_exporter": "python",
   "pygments_lexer": "ipython3",
   "version": "3.9.12"
  }
 },
 "nbformat": 4,
 "nbformat_minor": 2
}
