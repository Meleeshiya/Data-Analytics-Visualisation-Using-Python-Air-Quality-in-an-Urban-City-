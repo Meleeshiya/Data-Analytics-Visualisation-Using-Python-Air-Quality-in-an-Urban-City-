{
 "cells": [
  {
   "cell_type": "code",
   "execution_count": 2,
   "id": "f1da43b3",
   "metadata": {},
   "outputs": [
    {
     "data": {
      "text/html": [
       "<div>\n",
       "<style scoped>\n",
       "    .dataframe tbody tr th:only-of-type {\n",
       "        vertical-align: middle;\n",
       "    }\n",
       "\n",
       "    .dataframe tbody tr th {\n",
       "        vertical-align: top;\n",
       "    }\n",
       "\n",
       "    .dataframe thead th {\n",
       "        text-align: right;\n",
       "    }\n",
       "</style>\n",
       "<table border=\"1\" class=\"dataframe\">\n",
       "  <thead>\n",
       "    <tr style=\"text-align: right;\">\n",
       "      <th></th>\n",
       "      <th>Date</th>\n",
       "      <th>Time</th>\n",
       "      <th>CO(GT)</th>\n",
       "      <th>PT08.S1(CO)</th>\n",
       "      <th>NMHC(GT)</th>\n",
       "      <th>C6H6(GT)</th>\n",
       "      <th>PT08.S2(NMHC)</th>\n",
       "      <th>NOx(GT)</th>\n",
       "      <th>PT08.S3(NOx)</th>\n",
       "      <th>NO2(GT)</th>\n",
       "      <th>PT08.S4(NO2)</th>\n",
       "      <th>PT08.S5(O3)</th>\n",
       "      <th>T</th>\n",
       "      <th>RH</th>\n",
       "      <th>AH</th>\n",
       "    </tr>\n",
       "  </thead>\n",
       "  <tbody>\n",
       "    <tr>\n",
       "      <th>0</th>\n",
       "      <td>2004-03-10</td>\n",
       "      <td>18:00:00</td>\n",
       "      <td>2.6</td>\n",
       "      <td>1360.00</td>\n",
       "      <td>150</td>\n",
       "      <td>11.881723</td>\n",
       "      <td>1045.50</td>\n",
       "      <td>166.0</td>\n",
       "      <td>1056.25</td>\n",
       "      <td>113.0</td>\n",
       "      <td>1692.00</td>\n",
       "      <td>1267.50</td>\n",
       "      <td>13.60</td>\n",
       "      <td>48.875001</td>\n",
       "      <td>0.757754</td>\n",
       "    </tr>\n",
       "    <tr>\n",
       "      <th>1</th>\n",
       "      <td>2004-03-10</td>\n",
       "      <td>19:00:00</td>\n",
       "      <td>2.0</td>\n",
       "      <td>1292.25</td>\n",
       "      <td>112</td>\n",
       "      <td>9.397165</td>\n",
       "      <td>954.75</td>\n",
       "      <td>103.0</td>\n",
       "      <td>1173.75</td>\n",
       "      <td>92.0</td>\n",
       "      <td>1558.75</td>\n",
       "      <td>972.25</td>\n",
       "      <td>13.30</td>\n",
       "      <td>47.700000</td>\n",
       "      <td>0.725487</td>\n",
       "    </tr>\n",
       "    <tr>\n",
       "      <th>2</th>\n",
       "      <td>2004-03-10</td>\n",
       "      <td>20:00:00</td>\n",
       "      <td>2.2</td>\n",
       "      <td>1402.00</td>\n",
       "      <td>88</td>\n",
       "      <td>8.997817</td>\n",
       "      <td>939.25</td>\n",
       "      <td>131.0</td>\n",
       "      <td>1140.00</td>\n",
       "      <td>114.0</td>\n",
       "      <td>1554.50</td>\n",
       "      <td>1074.00</td>\n",
       "      <td>11.90</td>\n",
       "      <td>53.975000</td>\n",
       "      <td>0.750239</td>\n",
       "    </tr>\n",
       "    <tr>\n",
       "      <th>3</th>\n",
       "      <td>2004-03-10</td>\n",
       "      <td>21:00:00</td>\n",
       "      <td>2.2</td>\n",
       "      <td>1375.50</td>\n",
       "      <td>80</td>\n",
       "      <td>9.228796</td>\n",
       "      <td>948.25</td>\n",
       "      <td>172.0</td>\n",
       "      <td>1092.00</td>\n",
       "      <td>122.0</td>\n",
       "      <td>1583.75</td>\n",
       "      <td>1203.25</td>\n",
       "      <td>11.00</td>\n",
       "      <td>60.000000</td>\n",
       "      <td>0.786713</td>\n",
       "    </tr>\n",
       "    <tr>\n",
       "      <th>4</th>\n",
       "      <td>2004-03-10</td>\n",
       "      <td>22:00:00</td>\n",
       "      <td>1.6</td>\n",
       "      <td>1272.25</td>\n",
       "      <td>51</td>\n",
       "      <td>6.518224</td>\n",
       "      <td>835.50</td>\n",
       "      <td>131.0</td>\n",
       "      <td>1205.00</td>\n",
       "      <td>116.0</td>\n",
       "      <td>1490.00</td>\n",
       "      <td>1110.00</td>\n",
       "      <td>11.15</td>\n",
       "      <td>59.575001</td>\n",
       "      <td>0.788794</td>\n",
       "    </tr>\n",
       "  </tbody>\n",
       "</table>\n",
       "</div>"
      ],
      "text/plain": [
       "        Date      Time  CO(GT)  PT08.S1(CO)  NMHC(GT)   C6H6(GT)  \\\n",
       "0 2004-03-10  18:00:00     2.6      1360.00       150  11.881723   \n",
       "1 2004-03-10  19:00:00     2.0      1292.25       112   9.397165   \n",
       "2 2004-03-10  20:00:00     2.2      1402.00        88   8.997817   \n",
       "3 2004-03-10  21:00:00     2.2      1375.50        80   9.228796   \n",
       "4 2004-03-10  22:00:00     1.6      1272.25        51   6.518224   \n",
       "\n",
       "   PT08.S2(NMHC)  NOx(GT)  PT08.S3(NOx)  NO2(GT)  PT08.S4(NO2)  PT08.S5(O3)  \\\n",
       "0        1045.50    166.0       1056.25    113.0       1692.00      1267.50   \n",
       "1         954.75    103.0       1173.75     92.0       1558.75       972.25   \n",
       "2         939.25    131.0       1140.00    114.0       1554.50      1074.00   \n",
       "3         948.25    172.0       1092.00    122.0       1583.75      1203.25   \n",
       "4         835.50    131.0       1205.00    116.0       1490.00      1110.00   \n",
       "\n",
       "       T         RH        AH  \n",
       "0  13.60  48.875001  0.757754  \n",
       "1  13.30  47.700000  0.725487  \n",
       "2  11.90  53.975000  0.750239  \n",
       "3  11.00  60.000000  0.786713  \n",
       "4  11.15  59.575001  0.788794  "
      ]
     },
     "execution_count": 2,
     "metadata": {},
     "output_type": "execute_result"
    }
   ],
   "source": [
    "# Standard import for pandas and numpy\n",
    "import pandas as pd\n",
    "import numpy as np\n",
    "\n",
    "#Load the data set into jupyter\n",
    "airQualityDataSet = pd.read_excel(\"AirQualityUCI.xlsx\")\n",
    "airQualityDataSet.head()"
   ]
  },
  {
   "cell_type": "code",
   "execution_count": 11,
   "id": "d103051c",
   "metadata": {},
   "outputs": [
    {
     "data": {
      "text/html": [
       "<div>\n",
       "<style scoped>\n",
       "    .dataframe tbody tr th:only-of-type {\n",
       "        vertical-align: middle;\n",
       "    }\n",
       "\n",
       "    .dataframe tbody tr th {\n",
       "        vertical-align: top;\n",
       "    }\n",
       "\n",
       "    .dataframe thead th {\n",
       "        text-align: right;\n",
       "    }\n",
       "</style>\n",
       "<table border=\"1\" class=\"dataframe\">\n",
       "  <thead>\n",
       "    <tr style=\"text-align: right;\">\n",
       "      <th></th>\n",
       "      <th>Date</th>\n",
       "      <th>Time</th>\n",
       "      <th>CO(GT)</th>\n",
       "      <th>PT08.S1(CO)</th>\n",
       "      <th>NMHC(GT)</th>\n",
       "      <th>C6H6(GT)</th>\n",
       "      <th>PT08.S2(NMHC)</th>\n",
       "      <th>NOx(GT)</th>\n",
       "      <th>PT08.S3(NOx)</th>\n",
       "      <th>NO2(GT)</th>\n",
       "      <th>PT08.S4(NO2)</th>\n",
       "      <th>PT08.S5(O3)</th>\n",
       "      <th>T</th>\n",
       "      <th>RH</th>\n",
       "      <th>AH</th>\n",
       "    </tr>\n",
       "  </thead>\n",
       "  <tbody>\n",
       "    <tr>\n",
       "      <th>9352</th>\n",
       "      <td>2005-04-04</td>\n",
       "      <td>10:00:00</td>\n",
       "      <td>3.1</td>\n",
       "      <td>1314.25</td>\n",
       "      <td>-200</td>\n",
       "      <td>13.529605</td>\n",
       "      <td>1101.25</td>\n",
       "      <td>471.7</td>\n",
       "      <td>538.50</td>\n",
       "      <td>189.8</td>\n",
       "      <td>1374.25</td>\n",
       "      <td>1728.50</td>\n",
       "      <td>21.850</td>\n",
       "      <td>29.250</td>\n",
       "      <td>0.756824</td>\n",
       "    </tr>\n",
       "    <tr>\n",
       "      <th>9353</th>\n",
       "      <td>2005-04-04</td>\n",
       "      <td>11:00:00</td>\n",
       "      <td>2.4</td>\n",
       "      <td>1162.50</td>\n",
       "      <td>-200</td>\n",
       "      <td>11.355157</td>\n",
       "      <td>1027.00</td>\n",
       "      <td>353.3</td>\n",
       "      <td>603.75</td>\n",
       "      <td>179.2</td>\n",
       "      <td>1263.50</td>\n",
       "      <td>1269.00</td>\n",
       "      <td>24.325</td>\n",
       "      <td>23.725</td>\n",
       "      <td>0.711864</td>\n",
       "    </tr>\n",
       "    <tr>\n",
       "      <th>9354</th>\n",
       "      <td>2005-04-04</td>\n",
       "      <td>12:00:00</td>\n",
       "      <td>2.4</td>\n",
       "      <td>1142.00</td>\n",
       "      <td>-200</td>\n",
       "      <td>12.374538</td>\n",
       "      <td>1062.50</td>\n",
       "      <td>293.0</td>\n",
       "      <td>603.25</td>\n",
       "      <td>174.7</td>\n",
       "      <td>1240.75</td>\n",
       "      <td>1092.00</td>\n",
       "      <td>26.900</td>\n",
       "      <td>18.350</td>\n",
       "      <td>0.640649</td>\n",
       "    </tr>\n",
       "    <tr>\n",
       "      <th>9355</th>\n",
       "      <td>2005-04-04</td>\n",
       "      <td>13:00:00</td>\n",
       "      <td>2.1</td>\n",
       "      <td>1002.50</td>\n",
       "      <td>-200</td>\n",
       "      <td>9.547187</td>\n",
       "      <td>960.50</td>\n",
       "      <td>234.5</td>\n",
       "      <td>701.50</td>\n",
       "      <td>155.7</td>\n",
       "      <td>1041.00</td>\n",
       "      <td>769.75</td>\n",
       "      <td>28.325</td>\n",
       "      <td>13.550</td>\n",
       "      <td>0.513866</td>\n",
       "    </tr>\n",
       "    <tr>\n",
       "      <th>9356</th>\n",
       "      <td>2005-04-04</td>\n",
       "      <td>14:00:00</td>\n",
       "      <td>2.2</td>\n",
       "      <td>1070.75</td>\n",
       "      <td>-200</td>\n",
       "      <td>11.932060</td>\n",
       "      <td>1047.25</td>\n",
       "      <td>265.2</td>\n",
       "      <td>654.00</td>\n",
       "      <td>167.7</td>\n",
       "      <td>1128.50</td>\n",
       "      <td>816.00</td>\n",
       "      <td>28.500</td>\n",
       "      <td>13.125</td>\n",
       "      <td>0.502804</td>\n",
       "    </tr>\n",
       "  </tbody>\n",
       "</table>\n",
       "</div>"
      ],
      "text/plain": [
       "           Date      Time  CO(GT)  PT08.S1(CO)  NMHC(GT)   C6H6(GT)  \\\n",
       "9352 2005-04-04  10:00:00     3.1      1314.25      -200  13.529605   \n",
       "9353 2005-04-04  11:00:00     2.4      1162.50      -200  11.355157   \n",
       "9354 2005-04-04  12:00:00     2.4      1142.00      -200  12.374538   \n",
       "9355 2005-04-04  13:00:00     2.1      1002.50      -200   9.547187   \n",
       "9356 2005-04-04  14:00:00     2.2      1070.75      -200  11.932060   \n",
       "\n",
       "      PT08.S2(NMHC)  NOx(GT)  PT08.S3(NOx)  NO2(GT)  PT08.S4(NO2)  \\\n",
       "9352        1101.25    471.7        538.50    189.8       1374.25   \n",
       "9353        1027.00    353.3        603.75    179.2       1263.50   \n",
       "9354        1062.50    293.0        603.25    174.7       1240.75   \n",
       "9355         960.50    234.5        701.50    155.7       1041.00   \n",
       "9356        1047.25    265.2        654.00    167.7       1128.50   \n",
       "\n",
       "      PT08.S5(O3)       T      RH        AH  \n",
       "9352      1728.50  21.850  29.250  0.756824  \n",
       "9353      1269.00  24.325  23.725  0.711864  \n",
       "9354      1092.00  26.900  18.350  0.640649  \n",
       "9355       769.75  28.325  13.550  0.513866  \n",
       "9356       816.00  28.500  13.125  0.502804  "
      ]
     },
     "execution_count": 11,
     "metadata": {},
     "output_type": "execute_result"
    }
   ],
   "source": [
    "airQualityDataSet.tail()"
   ]
  },
  {
   "cell_type": "code",
   "execution_count": 12,
   "id": "1bf5078e",
   "metadata": {},
   "outputs": [
    {
     "data": {
      "text/plain": [
       "Date             False\n",
       "Time             False\n",
       "CO(GT)           False\n",
       "PT08.S1(CO)      False\n",
       "NMHC(GT)         False\n",
       "C6H6(GT)         False\n",
       "PT08.S2(NMHC)    False\n",
       "NOx(GT)          False\n",
       "PT08.S3(NOx)     False\n",
       "NO2(GT)          False\n",
       "PT08.S4(NO2)     False\n",
       "PT08.S5(O3)      False\n",
       "T                False\n",
       "RH               False\n",
       "AH               False\n",
       "dtype: bool"
      ]
     },
     "execution_count": 12,
     "metadata": {},
     "output_type": "execute_result"
    }
   ],
   "source": [
    "from tensorflow import keras\n",
    "from tensorflow.keras import layers\n",
    "import matplotlib.pyplot as plt\n",
    "import pandas as pd\n",
    "import numpy as np\n",
    "\n",
    "airQualityDataSet.isna().any()"
   ]
  },
  {
   "cell_type": "code",
   "execution_count": 37,
   "id": "e553b246",
   "metadata": {},
   "outputs": [
    {
     "data": {
      "image/png": "[encoded data removed]",
      "text/plain": [
       "<Figure size 720x720 with 1 Axes>"
      ]
     },
     "metadata": {
      "needs_background": "light"
     },
     "output_type": "display_data"
    }
   ],
   "source": [
    "#Histograms Matrix\n",
    "import pandas\n",
    "from pandas.plotting import scatter_matrix\n",
    "import matplotlib.pyplot as plt\n",
    "dataframe = pd.DataFrame(airQualityDataSet, columns=[\"CO(GT)\"])\n",
    "pandas.plotting.scatter_matrix(dataframe,figsize= (10,10))\n",
    "plt.show()"
   ]
  },
  {
   "cell_type": "code",
   "execution_count": 19,
   "id": "491e1046",
   "metadata": {},
   "outputs": [
    {
     "data": {
      "image/png": "[encoded data removed]",
      "text/plain": [
       "<Figure size 720x720 with 1 Axes>"
      ]
     },
     "metadata": {
      "needs_background": "light"
     },
     "output_type": "display_data"
    }
   ],
   "source": [
    "\n",
    "dataframe = pd.DataFrame(airQualityDataSet, columns=[\"PT08.S1(CO)\"])\n",
    "pandas.plotting.scatter_matrix(dataframe,figsize= (10,10))\n",
    "plt.show()"
   ]
  },
  {
   "cell_type": "code",
   "execution_count": 20,
   "id": "38c9937f",
   "metadata": {},
   "outputs": [
    {
     "data": {
      "image/png": "[encoded data removed]",
      "text/plain": [
       "<Figure size 720x720 with 1 Axes>"
      ]
     },
     "metadata": {
      "needs_background": "light"
     },
     "output_type": "display_data"
    }
   ],
   "source": [
    "dataframe = pd.DataFrame(airQualityDataSet, columns=[\"NMHC(GT)\"])\n",
    "pandas.plotting.scatter_matrix(dataframe,figsize= (10,10))\n",
    "plt.show()"
   ]
  },
  {
   "cell_type": "code",
   "execution_count": 21,
   "id": "eaea2579",
   "metadata": {},
   "outputs": [
    {
     "data": {
      "image/png": "[encoded data removed]",
      "text/plain": [
       "<Figure size 720x720 with 1 Axes>"
      ]
     },
     "metadata": {
      "needs_background": "light"
     },
     "output_type": "display_data"
    }
   ],
   "source": [
    "dataframe = pd.DataFrame(airQualityDataSet, columns=[\"C6H6(GT)\"])\n",
    "pandas.plotting.scatter_matrix(dataframe,figsize= (10,10))\n",
    "plt.show()"
   ]
  },
  {
   "cell_type": "code",
   "execution_count": 22,
   "id": "45162853",
   "metadata": {},
   "outputs": [
    {
     "data": {
      "image/png": "[encoded data removed]",
      "text/plain": [
       "<Figure size 720x720 with 1 Axes>"
      ]
     },
     "metadata": {
      "needs_background": "light"
     },
     "output_type": "display_data"
    }
   ],
   "source": [
    "dataframe = pd.DataFrame(airQualityDataSet, columns=[\"PT08.S2(NMHC)\"])\n",
    "pandas.plotting.scatter_matrix(dataframe,figsize= (10,10))\n",
    "plt.show()\n"
   ]
  },
  {
   "cell_type": "code",
   "execution_count": 23,
   "id": "44704f0a",
   "metadata": {},
   "outputs": [
    {
     "data": {
      "image/png": "[encoded data removed]",
      "text/plain": [
       "<Figure size 720x720 with 1 Axes>"
      ]
     },
     "metadata": {
      "needs_background": "light"
     },
     "output_type": "display_data"
    }
   ],
   "source": [
    "dataframe = pd.DataFrame(airQualityDataSet, columns=[\"NOx(GT)\"])\n",
    "pandas.plotting.scatter_matrix(dataframe,figsize= (10,10))\n",
    "plt.show()\n"
   ]
  },
  {
   "cell_type": "code",
   "execution_count": 24,
   "id": "a8ef9216",
   "metadata": {},
   "outputs": [
    {
     "data": {
      "image/png": "[encoded data removed]",
      "text/plain": [
       "<Figure size 720x720 with 1 Axes>"
      ]
     },
     "metadata": {
      "needs_background": "light"
     },
     "output_type": "display_data"
    }
   ],
   "source": [
    "dataframe = pd.DataFrame(airQualityDataSet, columns=[\"PT08.S3(NOx)\"])\n",
    "pandas.plotting.scatter_matrix(dataframe,figsize= (10,10))\n",
    "plt.show()\n"
   ]
  },
  {
   "cell_type": "code",
   "execution_count": 25,
   "id": "441e922c",
   "metadata": {},
   "outputs": [
    {
     "data": {
      "image/png": "[encoded data removed]",
      "text/plain": [
       "<Figure size 720x720 with 1 Axes>"
      ]
     },
     "metadata": {
      "needs_background": "light"
     },
     "output_type": "display_data"
    }
   ],
   "source": [
    "dataframe = pd.DataFrame(airQualityDataSet, columns=[\"NO2(GT)\"])\n",
    "pandas.plotting.scatter_matrix(dataframe,figsize= (10,10))\n",
    "plt.show()"
   ]
  },
  {
   "cell_type": "code",
   "execution_count": 30,
   "id": "4c02a054",
   "metadata": {},
   "outputs": [
    {
     "data": {
      "image/png": "[encoded data removed]",
      "text/plain": [
       "<Figure size 720x720 with 1 Axes>"
      ]
     },
     "metadata": {
      "needs_background": "light"
     },
     "output_type": "display_data"
    }
   ],
   "source": [
    "dataframe = pd.DataFrame(airQualityDataSet, columns=[\"PT08.S4(NO2)\"])\n",
    "pandas.plotting.scatter_matrix(dataframe,figsize= (10,10))\n",
    "plt.show()"
   ]
  },
  {
   "cell_type": "code",
   "execution_count": 31,
   "id": "a242d7ea",
   "metadata": {},
   "outputs": [
    {
     "data": {
      "image/png": "[encoded data removed]",
      "text/plain": [
       "<Figure size 720x720 with 1 Axes>"
      ]
     },
     "metadata": {
      "needs_background": "light"
     },
     "output_type": "display_data"
    }
   ],
   "source": [
    "dataframe = pd.DataFrame(airQualityDataSet, columns=[\"PT08.S5(O3)\"])\n",
    "pandas.plotting.scatter_matrix(dataframe,figsize= (10,10))\n",
    "plt.show()"
   ]
  },
  {
   "cell_type": "code",
   "execution_count": 32,
   "id": "44ddf69c",
   "metadata": {},
   "outputs": [
    {
     "data": {
      "image/png": "[encoded data removed]",
      "text/plain": [
       "<Figure size 720x720 with 1 Axes>"
      ]
     },
     "metadata": {
      "needs_background": "light"
     },
     "output_type": "display_data"
    }
   ],
   "source": [
    "dataframe = pd.DataFrame(airQualityDataSet, columns=[\"T\"])\n",
    "pandas.plotting.scatter_matrix(dataframe,figsize= (10,10))\n",
    "plt.show()"
   ]
  },
  {
   "cell_type": "code",
   "execution_count": 33,
   "id": "4fd35d50",
   "metadata": {},
   "outputs": [
    {
     "data": {
      "image/png": "[encoded data removed]",
      "text/plain": [
       "<Figure size 720x720 with 1 Axes>"
      ]
     },
     "metadata": {
      "needs_background": "light"
     },
     "output_type": "display_data"
    }
   ],
   "source": [
    "dataframe = pd.DataFrame(airQualityDataSet, columns=[\"RH\"])\n",
    "pandas.plotting.scatter_matrix(dataframe,figsize= (10,10))\n",
    "plt.show()"
   ]
  },
  {
   "cell_type": "code",
   "execution_count": 34,
   "id": "53b4f483",
   "metadata": {},
   "outputs": [
    {
     "data": {
      "image/png": "[encoded data removed]",
      "text/plain": [
       "<Figure size 720x720 with 1 Axes>"
      ]
     },
     "metadata": {
      "needs_background": "light"
     },
     "output_type": "display_data"
    }
   ],
   "source": [
    "dataframe = pd.DataFrame(airQualityDataSet, columns=[\"AH\"])\n",
    "pandas.plotting.scatter_matrix(dataframe,figsize= (10,10))\n",
    "plt.show()"
   ]
  },
  {
   "cell_type": "code",
   "execution_count": 38,
   "id": "a9dd741f",
   "metadata": {},
   "outputs": [
    {
     "data": {
      "text/plain": [
       "<matplotlib.axes._subplots.AxesSubplot at 0x1839e5dba48>"
      ]
     },
     "execution_count": 38,
     "metadata": {},
     "output_type": "execute_result"
    },
    {
     "data": {
      "image/png": "[encoded data removed]",
      "text/plain": [
       "<Figure size 432x288 with 1 Axes>"
      ]
     },
     "metadata": {
      "needs_background": "light"
     },
     "output_type": "display_data"
    }
   ],
   "source": [
    "#Plot Scatterplot to have a sense of relationships amongst features\n",
    "#Visualisation fora relationship between temparature and CO(GT)\n",
    "dataframe = pd.DataFrame(airQualityDataSet, columns=['T','CO(GT)'])\n",
    "dataframe.plot.scatter(x='T', y='CO(GT)')"
   ]
  },
  {
   "cell_type": "code",
   "execution_count": 39,
   "id": "c9b3390d",
   "metadata": {},
   "outputs": [
    {
     "data": {
      "text/plain": [
       "<matplotlib.axes._subplots.AxesSubplot at 0x1839fc2b608>"
      ]
     },
     "execution_count": 39,
     "metadata": {},
     "output_type": "execute_result"
    },
    {
     "data": {
      "image/png": "[encoded data removed]",
      "text/plain": [
       "<Figure size 432x288 with 1 Axes>"
      ]
     },
     "metadata": {
      "needs_background": "light"
     },
     "output_type": "display_data"
    }
   ],
   "source": [
    "dataframe = pd.DataFrame(airQualityDataSet, columns=['T','PT08.S1(CO)'])\n",
    "dataframe.plot.scatter(x='T', y='PT08.S1(CO)')"
   ]
  },
  {
   "cell_type": "code",
   "execution_count": 40,
   "id": "340a3d8c",
   "metadata": {},
   "outputs": [
    {
     "data": {
      "text/plain": [
       "<matplotlib.axes._subplots.AxesSubplot at 0x1839bf751c8>"
      ]
     },
     "execution_count": 40,
     "metadata": {},
     "output_type": "execute_result"
    },
    {
     "data": {
      "image/png": "[encoded data removed]",
      "text/plain": [
       "<Figure size 432x288 with 1 Axes>"
      ]
     },
     "metadata": {
      "needs_background": "light"
     },
     "output_type": "display_data"
    }
   ],
   "source": [
    "dataframe = pd.DataFrame(airQualityDataSet, columns=['T','NMHC(GT)'])\n",
    "dataframe.plot.scatter(x='T', y='NMHC(GT)')"
   ]
  },
  {
   "cell_type": "code",
   "execution_count": 42,
   "id": "5893a2cf",
   "metadata": {},
   "outputs": [
    {
     "data": {
      "text/plain": [
       "<matplotlib.axes._subplots.AxesSubplot at 0x1839dff9188>"
      ]
     },
     "execution_count": 42,
     "metadata": {},
     "output_type": "execute_result"
    },
    {
     "data": {
      "image/png": "[encoded data removed]",
      "text/plain": [
       "<Figure size 432x288 with 1 Axes>"
      ]
     },
     "metadata": {
      "needs_background": "light"
     },
     "output_type": "display_data"
    }
   ],
   "source": [
    "dataframe = pd.DataFrame(airQualityDataSet, columns=['T','C6H6(GT)'])\n",
    "dataframe.plot.scatter(x='T', y='C6H6(GT)')"
   ]
  },
  {
   "cell_type": "code",
   "execution_count": 3,
   "id": "16fece80",
   "metadata": {},
   "outputs": [
    {
     "data": {
      "text/plain": [
       "<matplotlib.axes._subplots.AxesSubplot at 0x2536a559488>"
      ]
     },
     "execution_count": 3,
     "metadata": {},
     "output_type": "execute_result"
    },
    {
     "data": {
      "image/png": "[encoded data removed]",
      "text/plain": [
       "<Figure size 432x288 with 1 Axes>"
      ]
     },
     "metadata": {
      "needs_background": "light"
     },
     "output_type": "display_data"
    }
   ],
   "source": [
    "dataframe = pd.DataFrame(airQualityDataSet, columns=['T','RH'])\n",
    "dataframe.plot.scatter(x='T', y='RH')"
   ]
  },
  {
   "cell_type": "code",
   "execution_count": 44,
   "id": "7b974bd5",
   "metadata": {},
   "outputs": [
    {
     "data": {
      "text/plain": [
       "<matplotlib.axes._subplots.AxesSubplot at 0x1839df25148>"
      ]
     },
     "execution_count": 44,
     "metadata": {},
     "output_type": "execute_result"
    },
    {
     "data": {
      "image/png": "[encoded data removed]",
      "text/plain": [
       "<Figure size 432x288 with 1 Axes>"
      ]
     },
     "metadata": {
      "needs_background": "light"
     },
     "output_type": "display_data"
    }
   ],
   "source": [
    "dataframe = pd.DataFrame(airQualityDataSet, columns=['T','AH'])\n",
    "dataframe.plot.scatter(x='T', y='AH')"
   ]
  },
  {
   "cell_type": "code",
   "execution_count": 45,
   "id": "b736379d",
   "metadata": {},
   "outputs": [
    {
     "data": {
      "text/plain": [
       "<matplotlib.axes._subplots.AxesSubplot at 0x1839decc288>"
      ]
     },
     "execution_count": 45,
     "metadata": {},
     "output_type": "execute_result"
    },
    {
     "data": {
      "image/png": "[encoded data removed]",
      "text/plain": [
       "<Figure size 432x288 with 1 Axes>"
      ]
     },
     "metadata": {
      "needs_background": "light"
     },
     "output_type": "display_data"
    }
   ],
   "source": [
    "dataframe = pd.DataFrame(airQualityDataSet, columns=['T','PT08.S2(NMHC)'])\n",
    "dataframe.plot.scatter(x='T', y='PT08.S2(NMHC)')"
   ]
  },
  {
   "cell_type": "code",
   "execution_count": 46,
   "id": "eea31eac",
   "metadata": {},
   "outputs": [
    {
     "data": {
      "text/plain": [
       "<matplotlib.axes._subplots.AxesSubplot at 0x1839fc7ab08>"
      ]
     },
     "execution_count": 46,
     "metadata": {},
     "output_type": "execute_result"
    },
    {
     "data": {
      "image/png": "[encoded data removed]",
      "text/plain": [
       "<Figure size 432x288 with 1 Axes>"
      ]
     },
     "metadata": {
      "needs_background": "light"
     },
     "output_type": "display_data"
    }
   ],
   "source": [
    "dataframe = pd.DataFrame(airQualityDataSet, columns=['T','NOx(GT)'])\n",
    "dataframe.plot.scatter(x='T', y='NOx(GT)')"
   ]
  },
  {
   "cell_type": "code",
   "execution_count": 47,
   "id": "5f22b19c",
   "metadata": {},
   "outputs": [
    {
     "data": {
      "text/plain": [
       "<matplotlib.axes._subplots.AxesSubplot at 0x1839c436e08>"
      ]
     },
     "execution_count": 47,
     "metadata": {},
     "output_type": "execute_result"
    },
    {
     "data": {
      "image/png": "[encoded data removed]",
      "text/plain": [
       "<Figure size 432x288 with 1 Axes>"
      ]
     },
     "metadata": {
      "needs_background": "light"
     },
     "output_type": "display_data"
    }
   ],
   "source": [
    "dataframe = pd.DataFrame(airQualityDataSet, columns=['T','PT08.S3(NOx)'])\n",
    "dataframe.plot.scatter(x='T', y='PT08.S3(NOx)')"
   ]
  },
  {
   "cell_type": "code",
   "execution_count": 48,
   "id": "8c91ee28",
   "metadata": {},
   "outputs": [
    {
     "data": {
      "text/plain": [
       "<matplotlib.axes._subplots.AxesSubplot at 0x1839dccaac8>"
      ]
     },
     "execution_count": 48,
     "metadata": {},
     "output_type": "execute_result"
    },
    {
     "data": {
      "image/png": "[encoded data removed]",
      "text/plain": [
       "<Figure size 432x288 with 1 Axes>"
      ]
     },
     "metadata": {
      "needs_background": "light"
     },
     "output_type": "display_data"
    }
   ],
   "source": [
    "dataframe = pd.DataFrame(airQualityDataSet, columns=['T','NO2(GT)'])\n",
    "dataframe.plot.scatter(x='T', y='NO2(GT)')"
   ]
  },
  {
   "cell_type": "code",
   "execution_count": 49,
   "id": "c4b76b9d",
   "metadata": {},
   "outputs": [
    {
     "data": {
      "text/plain": [
       "<matplotlib.axes._subplots.AxesSubplot at 0x1839dfb7988>"
      ]
     },
     "execution_count": 49,
     "metadata": {},
     "output_type": "execute_result"
    },
    {
     "data": {
      "image/png": "[encoded data removed]",
      "text/plain": [
       "<Figure size 432x288 with 1 Axes>"
      ]
     },
     "metadata": {
      "needs_background": "light"
     },
     "output_type": "display_data"
    }
   ],
   "source": [
    "dataframe = pd.DataFrame(airQualityDataSet, columns=['T','PT08.S4(NO2)'])\n",
    "dataframe.plot.scatter(x='T', y='PT08.S4(NO2)')"
   ]
  },
  {
   "cell_type": "code",
   "execution_count": 50,
   "id": "90b5318c",
   "metadata": {},
   "outputs": [
    {
     "data": {
      "text/plain": [
       "<matplotlib.axes._subplots.AxesSubplot at 0x1839c475888>"
      ]
     },
     "execution_count": 50,
     "metadata": {},
     "output_type": "execute_result"
    },
    {
     "data": {
      "image/png": "[encoded data removed]",
      "text/plain": [
       "<Figure size 432x288 with 1 Axes>"
      ]
     },
     "metadata": {
      "needs_background": "light"
     },
     "output_type": "display_data"
    }
   ],
   "source": [
    "dataframe = pd.DataFrame(airQualityDataSet, columns=['T','PT08.S5(O3)'])\n",
    "dataframe.plot.scatter(x='T', y='PT08.S5(O3)')"
   ]
  },
  {
   "cell_type": "code",
   "execution_count": 4,
   "id": "205ad973",
   "metadata": {},
   "outputs": [
    {
     "data": {
      "image/png": "[encoded data removed]",
      "text/plain": [
       "<Figure size 432x288 with 1 Axes>"
      ]
     },
     "metadata": {
      "needs_background": "light"
     },
     "output_type": "display_data"
    },
    {
     "data": {
      "image/png": "[encoded data removed]",
      "text/plain": [
       "<Figure size 432x288 with 1 Axes>"
      ]
     },
     "metadata": {
      "needs_background": "light"
     },
     "output_type": "display_data"
    },
    {
     "data": {
      "image/png": "[encoded data removed]",
      "text/plain": [
       "<Figure size 432x288 with 1 Axes>"
      ]
     },
     "metadata": {
      "needs_background": "light"
     },
     "output_type": "display_data"
    },
    {
     "data": {
      "image/png": "[encoded data removed]",
      "text/plain": [
       "<Figure size 432x288 with 1 Axes>"
      ]
     },
     "metadata": {
      "needs_background": "light"
     },
     "output_type": "display_data"
    },
    {
     "data": {
      "image/png": "[encoded data removed]",
      "text/plain": [
       "<Figure size 432x288 with 1 Axes>"
      ]
     },
     "metadata": {
      "needs_background": "light"
     },
     "output_type": "display_data"
    },
    {
     "data": {
      "image/png": "[encoded data removed]",
      "text/plain": [
       "<Figure size 432x288 with 1 Axes>"
      ]
     },
     "metadata": {
      "needs_background": "light"
     },
     "output_type": "display_data"
    },
    {
     "data": {
      "image/png": "[encoded data removed]",
      "text/plain": [
       "<Figure size 432x288 with 1 Axes>"
      ]
     },
     "metadata": {
      "needs_background": "light"
     },
     "output_type": "display_data"
    },
    {
     "data": {
      "image/png": "[encoded data removed]",
      "text/plain": [
       "<Figure size 432x288 with 1 Axes>"
      ]
     },
     "metadata": {
      "needs_background": "light"
     },
     "output_type": "display_data"
    },
    {
     "data": {
      "image/png": "[encoded data removed]",
      "text/plain": [
       "<Figure size 432x288 with 1 Axes>"
      ]
     },
     "metadata": {
      "needs_background": "light"
     },
     "output_type": "display_data"
    },
    {
     "data": {
      "image/png": "[encoded data removed]",
      "text/plain": [
       "<Figure size 432x288 with 1 Axes>"
      ]
     },
     "metadata": {
      "needs_background": "light"
     },
     "output_type": "display_data"
    },
    {
     "data": {
      "image/png": "[encoded data removed]",
      "text/plain": [
       "<Figure size 432x288 with 1 Axes>"
      ]
     },
     "metadata": {
      "needs_background": "light"
     },
     "output_type": "display_data"
    },
    {
     "data": {
      "image/png": "[encoded data removed]",
      "text/plain": [
       "<Figure size 432x288 with 1 Axes>"
      ]
     },
     "metadata": {
      "needs_background": "light"
     },
     "output_type": "display_data"
    },
    {
     "data": {
      "image/png": "[encoded data removed]",
      "text/plain": [
       "<Figure size 432x288 with 1 Axes>"
      ]
     },
     "metadata": {
      "needs_background": "light"
     },
     "output_type": "display_data"
    },
    {
     "data": {
      "image/png": "[encoded data removed]",
      "text/plain": [
       "<Figure size 432x288 with 1 Axes>"
      ]
     },
     "metadata": {
      "needs_background": "light"
     },
     "output_type": "display_data"
    }
   ],
   "source": [
    "def plot_boxlpot(df,ft):\n",
    "    df.boxplot(column=[ft])\n",
    "    plt.grid(False)\n",
    "    plt.show()\n",
    "aqDataSet_raw = pd.read_excel(\"AirQualityUCI.xlsx\")  \n",
    "plot_boxlpot(aqDataSet_raw,\"CO(GT)\") \n",
    "plot_boxlpot(aqDataSet_raw,\"PT08.S1(CO)\")\n",
    "plot_boxlpot(aqDataSet_raw,\"NMHC(GT)\")\n",
    "plot_boxlpot(aqDataSet_raw,\"C6H6(GT)\")\n",
    "plot_boxlpot(aqDataSet_raw,\"PT08.S2(NMHC)\")\n",
    "plot_boxlpot(aqDataSet_raw,\"NOx(GT)\")\n",
    "plot_boxlpot(aqDataSet_raw,\"PT08.S3(NOx)\")\n",
    "plot_boxlpot(aqDataSet_raw,\"NO2(GT)\")\n",
    "plot_boxlpot(aqDataSet_raw,\"PT08.S4(NO2)\")\n",
    "plot_boxlpot(aqDataSet_raw,\"PT08.S5(O3)\")\n",
    "plot_boxlpot(aqDataSet_raw,\"T\")\n",
    "plot_boxlpot(aqDataSet_raw,\"AH\")\n",
    "plot_boxlpot(aqDataSet_raw,\"RH\")\n",
    "\n"
   ]
  },
  {
   "cell_type": "code",
   "execution_count": 1,
   "id": "78499a8c",
   "metadata": {},
   "outputs": [
    {
     "data": {
      "text/plain": [
       "(5463, 15)"
      ]
     },
     "execution_count": 1,
     "metadata": {},
     "output_type": "execute_result"
    }
   ],
   "source": [
    "#remove outliers \n",
    "#import Libraries\n",
    "import pandas as pd\n",
    "import matplotlib.pyplot as plt\n",
    "#load data set and explore\n",
    "aqDataSet_raw = pd.read_excel(\"AirQualityUCI.xlsx\")\n",
    "aqDataSet_raw.head()\n",
    "\n",
    "# define a function called \"outliers\" which returns a list of index of outliers\n",
    "#IQR = Q3 - Q1\n",
    "#+/- 1.5 * IQR\n",
    "\n",
    "def outliers(df,ft):\n",
    "    Q1 = df[ft].quantile(0.25)\n",
    "    Q3 = df[ft].quantile(0.75)\n",
    "    IQR = Q3 - Q1\n",
    "    \n",
    "    lower_bound = Q1 -1.5 * IQR\n",
    "    upper_bound = Q3 + 1.5 * IQR\n",
    "    \n",
    "    ls = df.index[(df[ft] < lower_bound) | (df[ft] > upper_bound)]\n",
    "    return ls\n",
    "# create an empty list to store the output indices from multiple columns\n",
    "aqDataSet_raw = pd.read_excel(\"AirQualityUCI.xlsx\")\n",
    "index_list = []\n",
    "for feature in [\"CO(GT)\",\"PT08.S1(CO)\",\"NMHC(GT)\",\"C6H6(GT)\",\"PT08.S2(NMHC)\",\"NOx(GT)\",\n",
    "                \"PT08.S3(NOx)\",\"NO2(GT)\",\"PT08.S4(NO2)\",\"PT08.S5(O3)\",\"T\", \"AH\", \"RH\"]:\n",
    "    index_list.extend(outliers(aqDataSet_raw, feature))\n",
    "    \n",
    "\n",
    "# define a function called \"remove\" which returns a cleanset dataframe without outliers\n",
    "\n",
    "def remove(df,ls):\n",
    "    ls = sorted(set(ls))\n",
    "    df = df.drop(ls)\n",
    "    return df\n",
    "airQuaDatset_cleaned = remove(aqDataSet_raw, index_list)\n",
    "airQuaDatset_cleaned.shape"
   ]
  },
  {
   "cell_type": "code",
   "execution_count": 11,
   "id": "f9cad747",
   "metadata": {},
   "outputs": [
    {
     "data": {
      "text/html": [
       "<div>\n",
       "<style scoped>\n",
       "    .dataframe tbody tr th:only-of-type {\n",
       "        vertical-align: middle;\n",
       "    }\n",
       "\n",
       "    .dataframe tbody tr th {\n",
       "        vertical-align: top;\n",
       "    }\n",
       "\n",
       "    .dataframe thead th {\n",
       "        text-align: right;\n",
       "    }\n",
       "</style>\n",
       "<table border=\"1\" class=\"dataframe\">\n",
       "  <thead>\n",
       "    <tr style=\"text-align: right;\">\n",
       "      <th></th>\n",
       "      <th>CO(GT)</th>\n",
       "      <th>PT08.S1(CO)</th>\n",
       "      <th>NMHC(GT)</th>\n",
       "      <th>C6H6(GT)</th>\n",
       "      <th>PT08.S2(NMHC)</th>\n",
       "      <th>NOx(GT)</th>\n",
       "    </tr>\n",
       "  </thead>\n",
       "  <tbody>\n",
       "    <tr>\n",
       "      <th>count</th>\n",
       "      <td>9357.000000</td>\n",
       "      <td>9357.000000</td>\n",
       "      <td>9357.000000</td>\n",
       "      <td>9357.000000</td>\n",
       "      <td>9357.000000</td>\n",
       "      <td>9357.000000</td>\n",
       "    </tr>\n",
       "    <tr>\n",
       "      <th>mean</th>\n",
       "      <td>-34.207524</td>\n",
       "      <td>1048.869652</td>\n",
       "      <td>-159.090093</td>\n",
       "      <td>1.865576</td>\n",
       "      <td>894.475963</td>\n",
       "      <td>168.604200</td>\n",
       "    </tr>\n",
       "    <tr>\n",
       "      <th>std</th>\n",
       "      <td>77.657170</td>\n",
       "      <td>329.817015</td>\n",
       "      <td>139.789093</td>\n",
       "      <td>41.380154</td>\n",
       "      <td>342.315902</td>\n",
       "      <td>257.424561</td>\n",
       "    </tr>\n",
       "    <tr>\n",
       "      <th>min</th>\n",
       "      <td>-200.000000</td>\n",
       "      <td>-200.000000</td>\n",
       "      <td>-200.000000</td>\n",
       "      <td>-200.000000</td>\n",
       "      <td>-200.000000</td>\n",
       "      <td>-200.000000</td>\n",
       "    </tr>\n",
       "    <tr>\n",
       "      <th>25%</th>\n",
       "      <td>0.600000</td>\n",
       "      <td>921.000000</td>\n",
       "      <td>-200.000000</td>\n",
       "      <td>4.004958</td>\n",
       "      <td>711.000000</td>\n",
       "      <td>50.000000</td>\n",
       "    </tr>\n",
       "    <tr>\n",
       "      <th>50%</th>\n",
       "      <td>1.500000</td>\n",
       "      <td>1052.500000</td>\n",
       "      <td>-200.000000</td>\n",
       "      <td>7.886653</td>\n",
       "      <td>894.500000</td>\n",
       "      <td>141.000000</td>\n",
       "    </tr>\n",
       "    <tr>\n",
       "      <th>75%</th>\n",
       "      <td>2.600000</td>\n",
       "      <td>1221.250000</td>\n",
       "      <td>-200.000000</td>\n",
       "      <td>13.636091</td>\n",
       "      <td>1104.750000</td>\n",
       "      <td>284.200000</td>\n",
       "    </tr>\n",
       "    <tr>\n",
       "      <th>max</th>\n",
       "      <td>11.900000</td>\n",
       "      <td>2039.750000</td>\n",
       "      <td>1189.000000</td>\n",
       "      <td>63.741476</td>\n",
       "      <td>2214.000000</td>\n",
       "      <td>1479.000000</td>\n",
       "    </tr>\n",
       "  </tbody>\n",
       "</table>\n",
       "</div>"
      ],
      "text/plain": [
       "            CO(GT)  PT08.S1(CO)     NMHC(GT)     C6H6(GT)  PT08.S2(NMHC)  \\\n",
       "count  9357.000000  9357.000000  9357.000000  9357.000000    9357.000000   \n",
       "mean    -34.207524  1048.869652  -159.090093     1.865576     894.475963   \n",
       "std      77.657170   329.817015   139.789093    41.380154     342.315902   \n",
       "min    -200.000000  -200.000000  -200.000000  -200.000000    -200.000000   \n",
       "25%       0.600000   921.000000  -200.000000     4.004958     711.000000   \n",
       "50%       1.500000  1052.500000  -200.000000     7.886653     894.500000   \n",
       "75%       2.600000  1221.250000  -200.000000    13.636091    1104.750000   \n",
       "max      11.900000  2039.750000  1189.000000    63.741476    2214.000000   \n",
       "\n",
       "           NOx(GT)  \n",
       "count  9357.000000  \n",
       "mean    168.604200  \n",
       "std     257.424561  \n",
       "min    -200.000000  \n",
       "25%      50.000000  \n",
       "50%     141.000000  \n",
       "75%     284.200000  \n",
       "max    1479.000000  "
      ]
     },
     "execution_count": 11,
     "metadata": {},
     "output_type": "execute_result"
    }
   ],
   "source": [
    "# Before removing outliers -> Descriptive Statistics of  air quality dataset\n",
    "aqDataSet_raw[[\"CO(GT)\",\"PT08.S1(CO)\",\"NMHC(GT)\",\"C6H6(GT)\",\"PT08.S2(NMHC)\",\"NOx(GT)\"]].describe()"
   ]
  },
  {
   "cell_type": "code",
   "execution_count": 12,
   "id": "a8fcf28c",
   "metadata": {},
   "outputs": [
    {
     "data": {
      "text/html": [
       "<div>\n",
       "<style scoped>\n",
       "    .dataframe tbody tr th:only-of-type {\n",
       "        vertical-align: middle;\n",
       "    }\n",
       "\n",
       "    .dataframe tbody tr th {\n",
       "        vertical-align: top;\n",
       "    }\n",
       "\n",
       "    .dataframe thead th {\n",
       "        text-align: right;\n",
       "    }\n",
       "</style>\n",
       "<table border=\"1\" class=\"dataframe\">\n",
       "  <thead>\n",
       "    <tr style=\"text-align: right;\">\n",
       "      <th></th>\n",
       "      <th>PT08.S3(NOx)</th>\n",
       "      <th>NO2(GT)</th>\n",
       "      <th>PT08.S4(NO2)</th>\n",
       "      <th>PT08.S5(O3)</th>\n",
       "      <th>T</th>\n",
       "      <th>RH</th>\n",
       "      <th>AH</th>\n",
       "    </tr>\n",
       "  </thead>\n",
       "  <tbody>\n",
       "    <tr>\n",
       "      <th>count</th>\n",
       "      <td>9357.000000</td>\n",
       "      <td>9357.000000</td>\n",
       "      <td>9357.000000</td>\n",
       "      <td>9357.000000</td>\n",
       "      <td>9357.000000</td>\n",
       "      <td>9357.000000</td>\n",
       "      <td>9357.000000</td>\n",
       "    </tr>\n",
       "    <tr>\n",
       "      <th>mean</th>\n",
       "      <td>794.872333</td>\n",
       "      <td>58.135898</td>\n",
       "      <td>1391.363266</td>\n",
       "      <td>974.951534</td>\n",
       "      <td>9.776600</td>\n",
       "      <td>39.483611</td>\n",
       "      <td>-6.837604</td>\n",
       "    </tr>\n",
       "    <tr>\n",
       "      <th>std</th>\n",
       "      <td>321.977031</td>\n",
       "      <td>126.931428</td>\n",
       "      <td>467.192382</td>\n",
       "      <td>456.922728</td>\n",
       "      <td>43.203438</td>\n",
       "      <td>51.215645</td>\n",
       "      <td>38.976670</td>\n",
       "    </tr>\n",
       "    <tr>\n",
       "      <th>min</th>\n",
       "      <td>-200.000000</td>\n",
       "      <td>-200.000000</td>\n",
       "      <td>-200.000000</td>\n",
       "      <td>-200.000000</td>\n",
       "      <td>-200.000000</td>\n",
       "      <td>-200.000000</td>\n",
       "      <td>-200.000000</td>\n",
       "    </tr>\n",
       "    <tr>\n",
       "      <th>25%</th>\n",
       "      <td>637.000000</td>\n",
       "      <td>53.000000</td>\n",
       "      <td>1184.750000</td>\n",
       "      <td>699.750000</td>\n",
       "      <td>10.950000</td>\n",
       "      <td>34.050000</td>\n",
       "      <td>0.692275</td>\n",
       "    </tr>\n",
       "    <tr>\n",
       "      <th>50%</th>\n",
       "      <td>794.250000</td>\n",
       "      <td>96.000000</td>\n",
       "      <td>1445.500000</td>\n",
       "      <td>942.000000</td>\n",
       "      <td>17.200000</td>\n",
       "      <td>48.550000</td>\n",
       "      <td>0.976823</td>\n",
       "    </tr>\n",
       "    <tr>\n",
       "      <th>75%</th>\n",
       "      <td>960.250000</td>\n",
       "      <td>133.000000</td>\n",
       "      <td>1662.000000</td>\n",
       "      <td>1255.250000</td>\n",
       "      <td>24.075000</td>\n",
       "      <td>61.875000</td>\n",
       "      <td>1.296223</td>\n",
       "    </tr>\n",
       "    <tr>\n",
       "      <th>max</th>\n",
       "      <td>2682.750000</td>\n",
       "      <td>339.700000</td>\n",
       "      <td>2775.000000</td>\n",
       "      <td>2522.750000</td>\n",
       "      <td>44.600000</td>\n",
       "      <td>88.725000</td>\n",
       "      <td>2.231036</td>\n",
       "    </tr>\n",
       "  </tbody>\n",
       "</table>\n",
       "</div>"
      ],
      "text/plain": [
       "       PT08.S3(NOx)      NO2(GT)  PT08.S4(NO2)  PT08.S5(O3)            T  \\\n",
       "count   9357.000000  9357.000000   9357.000000  9357.000000  9357.000000   \n",
       "mean     794.872333    58.135898   1391.363266   974.951534     9.776600   \n",
       "std      321.977031   126.931428    467.192382   456.922728    43.203438   \n",
       "min     -200.000000  -200.000000   -200.000000  -200.000000  -200.000000   \n",
       "25%      637.000000    53.000000   1184.750000   699.750000    10.950000   \n",
       "50%      794.250000    96.000000   1445.500000   942.000000    17.200000   \n",
       "75%      960.250000   133.000000   1662.000000  1255.250000    24.075000   \n",
       "max     2682.750000   339.700000   2775.000000  2522.750000    44.600000   \n",
       "\n",
       "                RH           AH  \n",
       "count  9357.000000  9357.000000  \n",
       "mean     39.483611    -6.837604  \n",
       "std      51.215645    38.976670  \n",
       "min    -200.000000  -200.000000  \n",
       "25%      34.050000     0.692275  \n",
       "50%      48.550000     0.976823  \n",
       "75%      61.875000     1.296223  \n",
       "max      88.725000     2.231036  "
      ]
     },
     "execution_count": 12,
     "metadata": {},
     "output_type": "execute_result"
    }
   ],
   "source": [
    "aqDataSet_raw[[\"PT08.S3(NOx)\",\"NO2(GT)\",\"PT08.S4(NO2)\",\"PT08.S5(O3)\",\"T\",\"RH\",\"AH\"]].describe()"
   ]
  },
  {
   "cell_type": "code",
   "execution_count": 13,
   "id": "5b726973",
   "metadata": {},
   "outputs": [
    {
     "data": {
      "text/html": [
       "<div>\n",
       "<style scoped>\n",
       "    .dataframe tbody tr th:only-of-type {\n",
       "        vertical-align: middle;\n",
       "    }\n",
       "\n",
       "    .dataframe tbody tr th {\n",
       "        vertical-align: top;\n",
       "    }\n",
       "\n",
       "    .dataframe thead th {\n",
       "        text-align: right;\n",
       "    }\n",
       "</style>\n",
       "<table border=\"1\" class=\"dataframe\">\n",
       "  <thead>\n",
       "    <tr style=\"text-align: right;\">\n",
       "      <th></th>\n",
       "      <th>CO(GT)</th>\n",
       "      <th>PT08.S1(CO)</th>\n",
       "      <th>NMHC(GT)</th>\n",
       "      <th>C6H6(GT)</th>\n",
       "      <th>PT08.S2(NMHC)</th>\n",
       "      <th>NOx(GT)</th>\n",
       "    </tr>\n",
       "  </thead>\n",
       "  <tbody>\n",
       "    <tr>\n",
       "      <th>count</th>\n",
       "      <td>5463.000000</td>\n",
       "      <td>5463.000000</td>\n",
       "      <td>5463.0</td>\n",
       "      <td>5463.000000</td>\n",
       "      <td>5463.000000</td>\n",
       "      <td>5463.000000</td>\n",
       "    </tr>\n",
       "    <tr>\n",
       "      <th>mean</th>\n",
       "      <td>1.901135</td>\n",
       "      <td>1076.459027</td>\n",
       "      <td>-200.0</td>\n",
       "      <td>9.281789</td>\n",
       "      <td>920.530890</td>\n",
       "      <td>220.711441</td>\n",
       "    </tr>\n",
       "    <tr>\n",
       "      <th>std</th>\n",
       "      <td>1.068772</td>\n",
       "      <td>174.429823</td>\n",
       "      <td>0.0</td>\n",
       "      <td>5.726028</td>\n",
       "      <td>220.527078</td>\n",
       "      <td>148.103930</td>\n",
       "    </tr>\n",
       "    <tr>\n",
       "      <th>min</th>\n",
       "      <td>0.100000</td>\n",
       "      <td>666.750000</td>\n",
       "      <td>-200.0</td>\n",
       "      <td>0.423729</td>\n",
       "      <td>431.250000</td>\n",
       "      <td>2.000000</td>\n",
       "    </tr>\n",
       "    <tr>\n",
       "      <th>25%</th>\n",
       "      <td>1.100000</td>\n",
       "      <td>942.000000</td>\n",
       "      <td>-200.0</td>\n",
       "      <td>4.755590</td>\n",
       "      <td>751.000000</td>\n",
       "      <td>103.000000</td>\n",
       "    </tr>\n",
       "    <tr>\n",
       "      <th>50%</th>\n",
       "      <td>1.700000</td>\n",
       "      <td>1057.000000</td>\n",
       "      <td>-200.0</td>\n",
       "      <td>8.141759</td>\n",
       "      <td>905.000000</td>\n",
       "      <td>184.000000</td>\n",
       "    </tr>\n",
       "    <tr>\n",
       "      <th>75%</th>\n",
       "      <td>2.600000</td>\n",
       "      <td>1191.500000</td>\n",
       "      <td>-200.0</td>\n",
       "      <td>12.883302</td>\n",
       "      <td>1079.750000</td>\n",
       "      <td>310.000000</td>\n",
       "    </tr>\n",
       "    <tr>\n",
       "      <th>max</th>\n",
       "      <td>5.600000</td>\n",
       "      <td>1667.000000</td>\n",
       "      <td>-200.0</td>\n",
       "      <td>28.008952</td>\n",
       "      <td>1503.500000</td>\n",
       "      <td>634.000000</td>\n",
       "    </tr>\n",
       "  </tbody>\n",
       "</table>\n",
       "</div>"
      ],
      "text/plain": [
       "            CO(GT)  PT08.S1(CO)  NMHC(GT)     C6H6(GT)  PT08.S2(NMHC)  \\\n",
       "count  5463.000000  5463.000000    5463.0  5463.000000    5463.000000   \n",
       "mean      1.901135  1076.459027    -200.0     9.281789     920.530890   \n",
       "std       1.068772   174.429823       0.0     5.726028     220.527078   \n",
       "min       0.100000   666.750000    -200.0     0.423729     431.250000   \n",
       "25%       1.100000   942.000000    -200.0     4.755590     751.000000   \n",
       "50%       1.700000  1057.000000    -200.0     8.141759     905.000000   \n",
       "75%       2.600000  1191.500000    -200.0    12.883302    1079.750000   \n",
       "max       5.600000  1667.000000    -200.0    28.008952    1503.500000   \n",
       "\n",
       "           NOx(GT)  \n",
       "count  5463.000000  \n",
       "mean    220.711441  \n",
       "std     148.103930  \n",
       "min       2.000000  \n",
       "25%     103.000000  \n",
       "50%     184.000000  \n",
       "75%     310.000000  \n",
       "max     634.000000  "
      ]
     },
     "execution_count": 13,
     "metadata": {},
     "output_type": "execute_result"
    }
   ],
   "source": [
    "# After removing outliers -> Descriptive Statistics of  air quality dataset\n",
    "airQuaDatset_cleaned[[\"CO(GT)\",\"PT08.S1(CO)\",\"NMHC(GT)\",\"C6H6(GT)\",\"PT08.S2(NMHC)\",\"NOx(GT)\"]].describe()"
   ]
  },
  {
   "cell_type": "code",
   "execution_count": 14,
   "id": "7aa19ea8",
   "metadata": {},
   "outputs": [
    {
     "data": {
      "text/html": [
       "<div>\n",
       "<style scoped>\n",
       "    .dataframe tbody tr th:only-of-type {\n",
       "        vertical-align: middle;\n",
       "    }\n",
       "\n",
       "    .dataframe tbody tr th {\n",
       "        vertical-align: top;\n",
       "    }\n",
       "\n",
       "    .dataframe thead th {\n",
       "        text-align: right;\n",
       "    }\n",
       "</style>\n",
       "<table border=\"1\" class=\"dataframe\">\n",
       "  <thead>\n",
       "    <tr style=\"text-align: right;\">\n",
       "      <th></th>\n",
       "      <th>PT08.S3(NOx)</th>\n",
       "      <th>NO2(GT)</th>\n",
       "      <th>PT08.S4(NO2)</th>\n",
       "      <th>PT08.S5(O3)</th>\n",
       "      <th>T</th>\n",
       "      <th>RH</th>\n",
       "      <th>AH</th>\n",
       "    </tr>\n",
       "  </thead>\n",
       "  <tbody>\n",
       "    <tr>\n",
       "      <th>count</th>\n",
       "      <td>5463.000000</td>\n",
       "      <td>5463.000000</td>\n",
       "      <td>5463.000000</td>\n",
       "      <td>5463.000000</td>\n",
       "      <td>5463.000000</td>\n",
       "      <td>5463.000000</td>\n",
       "      <td>5463.000000</td>\n",
       "    </tr>\n",
       "    <tr>\n",
       "      <th>mean</th>\n",
       "      <td>808.396058</td>\n",
       "      <td>110.074794</td>\n",
       "      <td>1408.268351</td>\n",
       "      <td>997.346086</td>\n",
       "      <td>18.593778</td>\n",
       "      <td>47.945052</td>\n",
       "      <td>1.019410</td>\n",
       "    </tr>\n",
       "    <tr>\n",
       "      <th>std</th>\n",
       "      <td>196.167067</td>\n",
       "      <td>43.057097</td>\n",
       "      <td>333.548264</td>\n",
       "      <td>334.338003</td>\n",
       "      <td>9.325558</td>\n",
       "      <td>17.704623</td>\n",
       "      <td>0.421377</td>\n",
       "    </tr>\n",
       "    <tr>\n",
       "      <th>min</th>\n",
       "      <td>359.750000</td>\n",
       "      <td>2.000000</td>\n",
       "      <td>601.000000</td>\n",
       "      <td>287.750000</td>\n",
       "      <td>-1.900000</td>\n",
       "      <td>9.175000</td>\n",
       "      <td>0.184679</td>\n",
       "    </tr>\n",
       "    <tr>\n",
       "      <th>25%</th>\n",
       "      <td>664.625000</td>\n",
       "      <td>78.000000</td>\n",
       "      <td>1155.500000</td>\n",
       "      <td>744.125000</td>\n",
       "      <td>11.625000</td>\n",
       "      <td>34.000000</td>\n",
       "      <td>0.696732</td>\n",
       "    </tr>\n",
       "    <tr>\n",
       "      <th>50%</th>\n",
       "      <td>787.250000</td>\n",
       "      <td>108.000000</td>\n",
       "      <td>1417.750000</td>\n",
       "      <td>970.500000</td>\n",
       "      <td>18.325000</td>\n",
       "      <td>47.875000</td>\n",
       "      <td>1.009018</td>\n",
       "    </tr>\n",
       "    <tr>\n",
       "      <th>75%</th>\n",
       "      <td>927.250000</td>\n",
       "      <td>137.850000</td>\n",
       "      <td>1647.500000</td>\n",
       "      <td>1225.125000</td>\n",
       "      <td>25.100000</td>\n",
       "      <td>61.575000</td>\n",
       "      <td>1.315422</td>\n",
       "    </tr>\n",
       "    <tr>\n",
       "      <th>max</th>\n",
       "      <td>1444.750000</td>\n",
       "      <td>252.900000</td>\n",
       "      <td>2366.750000</td>\n",
       "      <td>2029.750000</td>\n",
       "      <td>43.424999</td>\n",
       "      <td>88.725000</td>\n",
       "      <td>2.180639</td>\n",
       "    </tr>\n",
       "  </tbody>\n",
       "</table>\n",
       "</div>"
      ],
      "text/plain": [
       "       PT08.S3(NOx)      NO2(GT)  PT08.S4(NO2)  PT08.S5(O3)            T  \\\n",
       "count   5463.000000  5463.000000   5463.000000  5463.000000  5463.000000   \n",
       "mean     808.396058   110.074794   1408.268351   997.346086    18.593778   \n",
       "std      196.167067    43.057097    333.548264   334.338003     9.325558   \n",
       "min      359.750000     2.000000    601.000000   287.750000    -1.900000   \n",
       "25%      664.625000    78.000000   1155.500000   744.125000    11.625000   \n",
       "50%      787.250000   108.000000   1417.750000   970.500000    18.325000   \n",
       "75%      927.250000   137.850000   1647.500000  1225.125000    25.100000   \n",
       "max     1444.750000   252.900000   2366.750000  2029.750000    43.424999   \n",
       "\n",
       "                RH           AH  \n",
       "count  5463.000000  5463.000000  \n",
       "mean     47.945052     1.019410  \n",
       "std      17.704623     0.421377  \n",
       "min       9.175000     0.184679  \n",
       "25%      34.000000     0.696732  \n",
       "50%      47.875000     1.009018  \n",
       "75%      61.575000     1.315422  \n",
       "max      88.725000     2.180639  "
      ]
     },
     "execution_count": 14,
     "metadata": {},
     "output_type": "execute_result"
    }
   ],
   "source": [
    "airQuaDatset_cleaned[[\"PT08.S3(NOx)\",\"NO2(GT)\",\"PT08.S4(NO2)\",\"PT08.S5(O3)\",\"T\",\"RH\",\"AH\"]].describe()"
   ]
  },
  {
   "cell_type": "code",
   "execution_count": 15,
   "id": "9d85d022",
   "metadata": {},
   "outputs": [
    {
     "data": {
      "text/plain": [
       "CO(GT)          -1.666180\n",
       "PT08.S1(CO)     -1.721126\n",
       "NMHC(GT)         4.075784\n",
       "C6H6(GT)        -4.508775\n",
       "PT08.S2(NMHC)   -0.793153\n",
       "NOx(GT)          0.825255\n",
       "PT08.S3(NOx)    -0.384464\n",
       "NO2(GT)         -1.225789\n",
       "PT08.S4(NO2)    -1.243944\n",
       "PT08.S5(O3)     -0.034500\n",
       "T               -4.445411\n",
       "RH              -3.932440\n",
       "AH              -4.754570\n",
       "dtype: float64"
      ]
     },
     "execution_count": 15,
     "metadata": {},
     "output_type": "execute_result"
    }
   ],
   "source": [
    "## Before removing outliers ->Skewness for selected columns in the dataset\n",
    "dataframe = pd.DataFrame(aqDataSet_raw, columns=[\"CO(GT)\",\"PT08.S1(CO)\",\"NMHC(GT)\",\"C6H6(GT)\",\"PT08.S2(NMHC)\",\"NOx(GT)\",\"PT08.S3(NOx)\",\"NO2(GT)\",\"PT08.S4(NO2)\",\"PT08.S5(O3)\",\"T\",\"RH\",\"AH\"])\n",
    "dataframe.skew(axis = 0, skipna = True)"
   ]
  },
  {
   "cell_type": "code",
   "execution_count": 17,
   "id": "4a875f04",
   "metadata": {},
   "outputs": [
    {
     "data": {
      "text/plain": [
       "CO(GT)           0.716447\n",
       "PT08.S1(CO)      0.489874\n",
       "NMHC(GT)         0.000000\n",
       "C6H6(GT)         0.812664\n",
       "PT08.S2(NMHC)    0.283890\n",
       "NOx(GT)          0.823737\n",
       "PT08.S3(NOx)     0.526793\n",
       "NO2(GT)          0.383883\n",
       "PT08.S4(NO2)     0.040574\n",
       "PT08.S5(O3)      0.346500\n",
       "T                0.234894\n",
       "RH               0.031986\n",
       "AH               0.194649\n",
       "dtype: float64"
      ]
     },
     "execution_count": 17,
     "metadata": {},
     "output_type": "execute_result"
    }
   ],
   "source": [
    "## After removing outliers ->Skewness for selected columns in the dataset\n",
    "dataframe = pd.DataFrame(airQuaDatset_cleaned, columns=[\"CO(GT)\",\"PT08.S1(CO)\",\"NMHC(GT)\",\"C6H6(GT)\",\"PT08.S2(NMHC)\",\"NOx(GT)\",\"PT08.S3(NOx)\",\"NO2(GT)\",\"PT08.S4(NO2)\",\"PT08.S5(O3)\",\"T\",\"RH\",\"AH\"])\n",
    "dataframe.skew(axis = 0, skipna = True)"
   ]
  },
  {
   "cell_type": "code",
   "execution_count": 16,
   "id": "e9110b18",
   "metadata": {},
   "outputs": [
    {
     "data": {
      "text/plain": [
       "CO(GT)            0.778306\n",
       "PT08.S1(CO)       5.835512\n",
       "NMHC(GT)         18.863824\n",
       "C6H6(GT)         19.188714\n",
       "PT08.S2(NMHC)     2.369425\n",
       "NOx(GT)           1.505566\n",
       "PT08.S3(NOx)      3.104215\n",
       "NO2(GT)           0.275717\n",
       "PT08.S4(NO2)      3.266388\n",
       "PT08.S5(O3)       0.637957\n",
       "T                18.774475\n",
       "RH               15.764326\n",
       "AH               20.613092\n",
       "dtype: float64"
      ]
     },
     "execution_count": 16,
     "metadata": {},
     "output_type": "execute_result"
    }
   ],
   "source": [
    "## Before removing outliers ->Kurtotsis for selected columns in the data set\n",
    "dataframe = pd.DataFrame(aqDataSet_raw, columns=[\"CO(GT)\",\"PT08.S1(CO)\",\"NMHC(GT)\",\"C6H6(GT)\",\"PT08.S2(NMHC)\",\"NOx(GT)\",\"PT08.S3(NOx)\",\"NO2(GT)\",\"PT08.S4(NO2)\",\"PT08.S5(O3)\",\"T\",\"RH\",\"AH\"])\n",
    "dataframe.kurt(axis = 0, skipna = True)"
   ]
  },
  {
   "cell_type": "code",
   "execution_count": 18,
   "id": "1f4e9eb4",
   "metadata": {},
   "outputs": [
    {
     "data": {
      "text/plain": [
       "CO(GT)           0.006735\n",
       "PT08.S1(CO)     -0.253128\n",
       "NMHC(GT)         0.000000\n",
       "C6H6(GT)         0.110527\n",
       "PT08.S2(NMHC)   -0.578631\n",
       "NOx(GT)         -0.147447\n",
       "PT08.S3(NOx)    -0.036224\n",
       "NO2(GT)         -0.178646\n",
       "PT08.S4(NO2)    -0.607418\n",
       "PT08.S5(O3)     -0.423529\n",
       "T               -0.628720\n",
       "RH              -0.867852\n",
       "AH              -0.654089\n",
       "dtype: float64"
      ]
     },
     "execution_count": 18,
     "metadata": {},
     "output_type": "execute_result"
    }
   ],
   "source": [
    "## Before removing outliers ->>Kurtotsis for selected columns in the data set\n",
    "dataframe = pd.DataFrame(airQuaDatset_cleaned, columns=[\"CO(GT)\",\"PT08.S1(CO)\",\"NMHC(GT)\",\"C6H6(GT)\",\"PT08.S2(NMHC)\",\"NOx(GT)\",\"PT08.S3(NOx)\",\"NO2(GT)\",\"PT08.S4(NO2)\",\"PT08.S5(O3)\",\"T\",\"RH\",\"AH\"])\n",
    "dataframe.kurt(axis = 0, skipna = True)"
   ]
  },
  {
   "cell_type": "code",
   "execution_count": null,
   "id": "f813d940",
   "metadata": {},
   "outputs": [],
   "source": []
  }
 ],
 "metadata": {
  "kernelspec": {
   "display_name": "Python 3 (ipykernel)",
   "language": "python",
   "name": "python3"
  },
  "language_info": {
   "codemirror_mode": {
    "name": "ipython",
    "version": 3
   },
   "file_extension": ".py",
   "mimetype": "text/x-python",
   "name": "python",
   "nbconvert_exporter": "python",
   "pygments_lexer": "ipython3",
   "version": "3.9.12"
  }
 },
 "nbformat": 4,
 "nbformat_minor": 5
}
